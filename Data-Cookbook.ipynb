{
 "cells": [
  {
   "cell_type": "markdown",
   "metadata": {},
   "source": [
    "# Data Cookbook\n",
    "\n",
    "**The four most useful data science techniques**\n",
    "1. Cluster Analysis\n",
    "2. API and web scrapping"
   ]
  },
  {
   "cell_type": "code",
   "execution_count": 29,
   "metadata": {},
   "outputs": [],
   "source": [
    "# Libraries\n",
    "import pandas as pd\n",
    "import numpy as np\n",
    "\n",
    "import seaborn as sns\n",
    "import matplotlib.pyplot as plt\n",
    "\n",
    "from scipy.cluster.vq import vq, kmeans\n",
    "from scipy.cluster.hierarchy import fcluster, linkage, dendrogram\n",
    "\n",
    "import requests\n",
    "from bs4 import BeautifulSoup\n",
    "import json"
   ]
  },
  {
   "cell_type": "code",
   "execution_count": 3,
   "metadata": {},
   "outputs": [],
   "source": [
    "# Uploading the datasets\n",
    "df_parks = pd.read_csv('parks_data_2024.csv')"
   ]
  },
  {
   "cell_type": "markdown",
   "metadata": {},
   "source": [
    "# Cluster Analysis\n",
    "Which one to use?\n",
    "\n",
    "- hierarical: \n",
    "\n",
    "    - Exploring data relationships: Hierarchical clustering is ideal for uncovering hierarchical structures within your data, showing how clusters relate to each other at different levels of granularity.\n",
    "\n",
    "    - Smaller datasets: It can be computationally expensive, making it less suitable for very large datasets.\n",
    "\n",
    "    - Unknown number of clusters: It allows you to explore different levels of clustering without needing to predefine the number of clusters.\n",
    "\n",
    "    - Exploring relationships between data points: It's useful when the relationships between data points are as important as the groupings themselves\n",
    "\n",
    "- kmeans: \n",
    "\n",
    "    - Large datasets: K-means is efficient and scalable, making it suitable for large datasets where speed is a priority.\n",
    "\n",
    "    - Known number of clusters: You need to know (or estimate) how many clusters you want to create.\n",
    "    - Well-defined cluster structures: K-means performs best when clusters have a clear, spherical shape.\n",
    "    - When speed and efficiency are important: K-means is faster and more computationally efficient than hierarchical clustering"
   ]
  },
  {
   "cell_type": "markdown",
   "metadata": {},
   "source": [
    "**K-means clustering**"
   ]
  },
  {
   "cell_type": "code",
   "execution_count": 8,
   "metadata": {},
   "outputs": [
    {
     "data": {
      "text/html": [
       "<div>\n",
       "<style scoped>\n",
       "    .dataframe tbody tr th:only-of-type {\n",
       "        vertical-align: middle;\n",
       "    }\n",
       "\n",
       "    .dataframe tbody tr th {\n",
       "        vertical-align: top;\n",
       "    }\n",
       "\n",
       "    .dataframe thead th {\n",
       "        text-align: right;\n",
       "    }\n",
       "</style>\n",
       "<table border=\"1\" class=\"dataframe\">\n",
       "  <thead>\n",
       "    <tr style=\"text-align: right;\">\n",
       "      <th></th>\n",
       "      <th>Hoops</th>\n",
       "      <th>Pickleball_combined</th>\n",
       "      <th>Hoops_scaled</th>\n",
       "      <th>Pickleball_combined_scaled</th>\n",
       "    </tr>\n",
       "  </thead>\n",
       "  <tbody>\n",
       "    <tr>\n",
       "      <th>0</th>\n",
       "      <td>10.120269</td>\n",
       "      <td>2.891505</td>\n",
       "      <td>1.333337</td>\n",
       "      <td>2.638993</td>\n",
       "    </tr>\n",
       "    <tr>\n",
       "      <th>1</th>\n",
       "      <td>3.009799</td>\n",
       "      <td>1.447019</td>\n",
       "      <td>0.396539</td>\n",
       "      <td>1.320652</td>\n",
       "    </tr>\n",
       "    <tr>\n",
       "      <th>2</th>\n",
       "      <td>3.951966</td>\n",
       "      <td>0.693327</td>\n",
       "      <td>0.520668</td>\n",
       "      <td>0.632780</td>\n",
       "    </tr>\n",
       "    <tr>\n",
       "      <th>3</th>\n",
       "      <td>15.661273</td>\n",
       "      <td>1.410018</td>\n",
       "      <td>2.063360</td>\n",
       "      <td>1.286883</td>\n",
       "    </tr>\n",
       "    <tr>\n",
       "      <th>4</th>\n",
       "      <td>34.188730</td>\n",
       "      <td>1.628035</td>\n",
       "      <td>4.504337</td>\n",
       "      <td>1.485860</td>\n",
       "    </tr>\n",
       "    <tr>\n",
       "      <th>...</th>\n",
       "      <td>...</td>\n",
       "      <td>...</td>\n",
       "      <td>...</td>\n",
       "      <td>...</td>\n",
       "    </tr>\n",
       "    <tr>\n",
       "      <th>95</th>\n",
       "      <td>5.856951</td>\n",
       "      <td>0.864140</td>\n",
       "      <td>0.771649</td>\n",
       "      <td>0.788676</td>\n",
       "    </tr>\n",
       "    <tr>\n",
       "      <th>96</th>\n",
       "      <td>14.207006</td>\n",
       "      <td>2.468901</td>\n",
       "      <td>1.871762</td>\n",
       "      <td>2.253294</td>\n",
       "    </tr>\n",
       "    <tr>\n",
       "      <th>97</th>\n",
       "      <td>13.936624</td>\n",
       "      <td>1.030223</td>\n",
       "      <td>1.836139</td>\n",
       "      <td>0.940254</td>\n",
       "    </tr>\n",
       "    <tr>\n",
       "      <th>98</th>\n",
       "      <td>6.439824</td>\n",
       "      <td>1.623045</td>\n",
       "      <td>0.848442</td>\n",
       "      <td>1.481306</td>\n",
       "    </tr>\n",
       "    <tr>\n",
       "      <th>99</th>\n",
       "      <td>6.873246</td>\n",
       "      <td>0.900068</td>\n",
       "      <td>0.905545</td>\n",
       "      <td>0.821466</td>\n",
       "    </tr>\n",
       "  </tbody>\n",
       "</table>\n",
       "<p>100 rows × 4 columns</p>\n",
       "</div>"
      ],
      "text/plain": [
       "        Hoops  Pickleball_combined  Hoops_scaled  Pickleball_combined_scaled\n",
       "0   10.120269             2.891505      1.333337                    2.638993\n",
       "1    3.009799             1.447019      0.396539                    1.320652\n",
       "2    3.951966             0.693327      0.520668                    0.632780\n",
       "3   15.661273             1.410018      2.063360                    1.286883\n",
       "4   34.188730             1.628035      4.504337                    1.485860\n",
       "..        ...                  ...           ...                         ...\n",
       "95   5.856951             0.864140      0.771649                    0.788676\n",
       "96  14.207006             2.468901      1.871762                    2.253294\n",
       "97  13.936624             1.030223      1.836139                    0.940254\n",
       "98   6.439824             1.623045      0.848442                    1.481306\n",
       "99   6.873246             0.900068      0.905545                    0.821466\n",
       "\n",
       "[100 rows x 4 columns]"
      ]
     },
     "execution_count": 8,
     "metadata": {},
     "output_type": "execute_result"
    }
   ],
   "source": [
    "# Choose two columns to cluster\n",
    "df_parks_col = df_parks[['Hoops','Pickleball_combined']].copy()\n",
    "df_parks_col['Hoops'] = df_parks_col['Hoops'] * 2\n",
    "\n",
    "# Normalize both of them\n",
    "df_parks_col['Hoops_scaled'] = df_parks_col['Hoops'] / df_parks_col['Hoops'].std()\n",
    "df_parks_col['Pickleball_combined_scaled'] = df_parks_col['Pickleball_combined'] / df_parks_col['Pickleball_combined'].std()\n",
    "df_parks_col\n"
   ]
  },
  {
   "cell_type": "markdown",
   "metadata": {},
   "source": [
    "*First step is to figure out out the num of clusters*"
   ]
  },
  {
   "cell_type": "code",
   "execution_count": 17,
   "metadata": {},
   "outputs": [
    {
     "data": {
      "image/png": "[encoded data removed]",
      "text/plain": [
       "<Figure size 640x480 with 1 Axes>"
      ]
     },
     "metadata": {},
     "output_type": "display_data"
    }
   ],
   "source": [
    "# Using the elbow plot method to find the number of clusters\n",
    "distortions = []\n",
    "\n",
    "# Loop through 5 clusters options\n",
    "for i in range(1,5):\n",
    "    cluster_center, distortion = kmeans(df_parks_col[['Hoops_scaled','Pickleball_combined_scaled']], i)\n",
    "    distortions.append(distortion)\n",
    "\n",
    "# Add the list of distortion and the range of number of clusters into a dataframe to plot \n",
    "elbow_plot_df = pd.DataFrame({'Num Cluster': range(1,5), 'Distortion': distortions})\n",
    "\n",
    "# Plot the elbow to figure the number of clusters\n",
    "sns.lineplot(x = 'Num Cluster', y = 'Distortion', data = elbow_plot_df)\n",
    "plt.show()"
   ]
  },
  {
   "cell_type": "markdown",
   "metadata": {},
   "source": [
    "*The most optimal number of clusters is 2*\n",
    "\n",
    "**Create the clusters with two clusters**"
   ]
  },
  {
   "cell_type": "code",
   "execution_count": 18,
   "metadata": {},
   "outputs": [],
   "source": [
    "cluster_centers, distortion = kmeans(df_parks_col[['Hoops_scaled','Pickleball_combined_scaled']], 2)\n",
    "\n",
    "# Label the clusters on the dataframe\n",
    "df_parks_col['label'], distortion = vq(df_parks_col[['Hoops_scaled','Pickleball_combined_scaled']], cluster_centers)"
   ]
  },
  {
   "cell_type": "markdown",
   "metadata": {},
   "source": [
    "**Finally graph the two features with the cluster labeling**"
   ]
  },
  {
   "cell_type": "code",
   "execution_count": null,
   "metadata": {},
   "outputs": [
    {
     "data": {
      "image/png": "[encoded data removed]",
      "text/plain": [
       "<Figure size 640x480 with 1 Axes>"
      ]
     },
     "metadata": {},
     "output_type": "display_data"
    }
   ],
   "source": [
    "sns.scatterplot(x = 'Hoops_scaled', y = 'Pickleball_combined_scaled', data = df_parks_col, hue = 'label')\n",
    "\n",
    "plt.show()"
   ]
  },
  {
   "cell_type": "markdown",
   "metadata": {},
   "source": [
    "**Hierarchical Clustering**"
   ]
  },
  {
   "cell_type": "code",
   "execution_count": 22,
   "metadata": {},
   "outputs": [
    {
     "data": {
      "text/html": [
       "<div>\n",
       "<style scoped>\n",
       "    .dataframe tbody tr th:only-of-type {\n",
       "        vertical-align: middle;\n",
       "    }\n",
       "\n",
       "    .dataframe tbody tr th {\n",
       "        vertical-align: top;\n",
       "    }\n",
       "\n",
       "    .dataframe thead th {\n",
       "        text-align: right;\n",
       "    }\n",
       "</style>\n",
       "<table border=\"1\" class=\"dataframe\">\n",
       "  <thead>\n",
       "    <tr style=\"text-align: right;\">\n",
       "      <th></th>\n",
       "      <th>investment_dollars</th>\n",
       "      <th>Rec_senior_centers</th>\n",
       "      <th>investment_dollars_per_20k</th>\n",
       "      <th>investment_dollars_per_20k_scaled</th>\n",
       "      <th>Rec_senior_centers_scaled</th>\n",
       "    </tr>\n",
       "  </thead>\n",
       "  <tbody>\n",
       "    <tr>\n",
       "      <th>0</th>\n",
       "      <td>220.434307</td>\n",
       "      <td>1.120458</td>\n",
       "      <td>4.408686e+06</td>\n",
       "      <td>1.742835</td>\n",
       "      <td>2.013198</td>\n",
       "    </tr>\n",
       "    <tr>\n",
       "      <th>1</th>\n",
       "      <td>76.151009</td>\n",
       "      <td>0.289404</td>\n",
       "      <td>1.523020e+06</td>\n",
       "      <td>0.602078</td>\n",
       "      <td>0.519990</td>\n",
       "    </tr>\n",
       "    <tr>\n",
       "      <th>2</th>\n",
       "      <td>68.927449</td>\n",
       "      <td>0.207998</td>\n",
       "      <td>1.378549e+06</td>\n",
       "      <td>0.544966</td>\n",
       "      <td>0.373724</td>\n",
       "    </tr>\n",
       "    <tr>\n",
       "      <th>3</th>\n",
       "      <td>112.913565</td>\n",
       "      <td>0.654651</td>\n",
       "      <td>2.258271e+06</td>\n",
       "      <td>0.892736</td>\n",
       "      <td>1.176253</td>\n",
       "    </tr>\n",
       "    <tr>\n",
       "      <th>4</th>\n",
       "      <td>260.647703</td>\n",
       "      <td>1.221026</td>\n",
       "      <td>5.212954e+06</td>\n",
       "      <td>2.060777</td>\n",
       "      <td>2.193895</td>\n",
       "    </tr>\n",
       "    <tr>\n",
       "      <th>...</th>\n",
       "      <td>...</td>\n",
       "      <td>...</td>\n",
       "      <td>...</td>\n",
       "      <td>...</td>\n",
       "      <td>...</td>\n",
       "    </tr>\n",
       "    <tr>\n",
       "      <th>95</th>\n",
       "      <td>75.332502</td>\n",
       "      <td>0.384062</td>\n",
       "      <td>1.506650e+06</td>\n",
       "      <td>0.595606</td>\n",
       "      <td>0.690069</td>\n",
       "    </tr>\n",
       "    <tr>\n",
       "      <th>96</th>\n",
       "      <td>107.815311</td>\n",
       "      <td>0.303198</td>\n",
       "      <td>2.156306e+06</td>\n",
       "      <td>0.852427</td>\n",
       "      <td>0.544776</td>\n",
       "    </tr>\n",
       "    <tr>\n",
       "      <th>97</th>\n",
       "      <td>485.292066</td>\n",
       "      <td>2.003211</td>\n",
       "      <td>9.705841e+06</td>\n",
       "      <td>3.836897</td>\n",
       "      <td>3.599295</td>\n",
       "    </tr>\n",
       "    <tr>\n",
       "      <th>98</th>\n",
       "      <td>82.474460</td>\n",
       "      <td>0.471207</td>\n",
       "      <td>1.649489e+06</td>\n",
       "      <td>0.652073</td>\n",
       "      <td>0.846647</td>\n",
       "    </tr>\n",
       "    <tr>\n",
       "      <th>99</th>\n",
       "      <td>65.392084</td>\n",
       "      <td>1.391014</td>\n",
       "      <td>1.307842e+06</td>\n",
       "      <td>0.517014</td>\n",
       "      <td>2.499323</td>\n",
       "    </tr>\n",
       "  </tbody>\n",
       "</table>\n",
       "<p>100 rows × 5 columns</p>\n",
       "</div>"
      ],
      "text/plain": [
       "    investment_dollars  Rec_senior_centers  investment_dollars_per_20k  \\\n",
       "0           220.434307            1.120458                4.408686e+06   \n",
       "1            76.151009            0.289404                1.523020e+06   \n",
       "2            68.927449            0.207998                1.378549e+06   \n",
       "3           112.913565            0.654651                2.258271e+06   \n",
       "4           260.647703            1.221026                5.212954e+06   \n",
       "..                 ...                 ...                         ...   \n",
       "95           75.332502            0.384062                1.506650e+06   \n",
       "96          107.815311            0.303198                2.156306e+06   \n",
       "97          485.292066            2.003211                9.705841e+06   \n",
       "98           82.474460            0.471207                1.649489e+06   \n",
       "99           65.392084            1.391014                1.307842e+06   \n",
       "\n",
       "    investment_dollars_per_20k_scaled  Rec_senior_centers_scaled  \n",
       "0                            1.742835                   2.013198  \n",
       "1                            0.602078                   0.519990  \n",
       "2                            0.544966                   0.373724  \n",
       "3                            0.892736                   1.176253  \n",
       "4                            2.060777                   2.193895  \n",
       "..                                ...                        ...  \n",
       "95                           0.595606                   0.690069  \n",
       "96                           0.852427                   0.544776  \n",
       "97                           3.836897                   3.599295  \n",
       "98                           0.652073                   0.846647  \n",
       "99                           0.517014                   2.499323  \n",
       "\n",
       "[100 rows x 5 columns]"
      ]
     },
     "execution_count": 22,
     "metadata": {},
     "output_type": "execute_result"
    }
   ],
   "source": [
    "# Prepare the normalize the data\n",
    "\n",
    "df_parks_col2 = df_parks[['investment_dollars', 'Rec_senior_centers']].copy()\n",
    "df_parks_col2['investment_dollars_per_20k'] = df_parks_col2['investment_dollars'] * 20000\n",
    "\n",
    "df_parks_col2['investment_dollars_per_20k_scaled'] = df_parks_col2['investment_dollars_per_20k'] / df_parks_col2['investment_dollars_per_20k'].std()\n",
    "df_parks_col2['Rec_senior_centers_scaled'] = df_parks_col2['Rec_senior_centers'] / df_parks_col2['Rec_senior_centers'].std()\n",
    "\n",
    "df_parks_col2"
   ]
  },
  {
   "cell_type": "markdown",
   "metadata": {},
   "source": [
    "**Create a dendogram to figure the number of clusters**"
   ]
  },
  {
   "cell_type": "code",
   "execution_count": 27,
   "metadata": {},
   "outputs": [
    {
     "data": {
      "image/png": "[encoded data removed]",
      "text/plain": [
       "<Figure size 640x480 with 1 Axes>"
      ]
     },
     "metadata": {},
     "output_type": "display_data"
    }
   ],
   "source": [
    "# First Figuring out the distance matrix using linkage\n",
    "distance_matrix = linkage(df_parks_col2[['investment_dollars_per_20k_scaled','Rec_senior_centers_scaled']], method = 'ward', metric = 'euclidean')\n",
    "\n",
    "d = dendrogram(distance_matrix)\n",
    "plt.show()"
   ]
  },
  {
   "cell_type": "markdown",
   "metadata": {},
   "source": [
    "*The nmost optimal number of clusters is 3*\n",
    "\n",
    "**Now create the cluster labels based on the distance matrix**"
   ]
  },
  {
   "cell_type": "code",
   "execution_count": 28,
   "metadata": {},
   "outputs": [],
   "source": [
    "df_parks_col2['label'] = fcluster(distance_matrix, 3, criterion='maxclust')"
   ]
  },
  {
   "cell_type": "code",
   "execution_count": 26,
   "metadata": {},
   "outputs": [
    {
     "data": {
      "image/png": "[encoded data removed]",
      "text/plain": [
       "<Figure size 640x480 with 1 Axes>"
      ]
     },
     "metadata": {},
     "output_type": "display_data"
    }
   ],
   "source": [
    "sns.scatterplot(x = 'investment_dollars_per_20k_scaled', y = 'Rec_senior_centers_scaled', data = df_parks_col2, hue = 'label')\n",
    "\n",
    "plt.show()"
   ]
  },
  {
   "cell_type": "markdown",
   "metadata": {},
   "source": [
    "# API and Web Scrapping"
   ]
  },
  {
   "cell_type": "markdown",
   "metadata": {},
   "source": [
    "**API**"
   ]
  },
  {
   "cell_type": "code",
   "execution_count": 114,
   "metadata": {},
   "outputs": [],
   "source": [
    "# API key: hM54ehaUjXV1Ywpa45zhDevnniKTnzAwC67Y8Bvj\n",
    "# API website: https://api.nasa.gov/\n",
    "\n",
    "api_key = 'hM54ehaUjXV1Ywpa45zhDevnniKTnzAwC67Y8Bvj'\n",
    "quary_start_date = '2025-03-25'\n",
    "quary_end_date = '2025-04-01'\n",
    "\n",
    "# Request access to the nasa url\n",
    "url = f'https://api.nasa.gov/neo/rest/v1/feed?start_date={quary_start_date}&end_date={quary_end_date}&api_key={api_key}' # API url\n",
    "response = requests.get(url) # request to get access the url"
   ]
  },
  {
   "cell_type": "markdown",
   "metadata": {},
   "source": [
    "**Save API request to a dictionary**"
   ]
  },
  {
   "cell_type": "code",
   "execution_count": 122,
   "metadata": {},
   "outputs": [
    {
     "name": "stdout",
     "output_type": "stream",
     "text": [
      "keys + ':', json_data[keys]\n",
      "keys + ':', json_data[keys]\n",
      "keys + ':', json_data[keys]\n"
     ]
    }
   ],
   "source": [
    "# Take request as json file and print it\n",
    "json_data = response.json()\n",
    "\n",
    "# I dont want to print all the data because its too big\n",
    "# wihtout the outer strings, this will create the values of every key\n",
    "for keys in json_data.keys():\n",
    "    print(\"keys + ':', json_data[keys]\")"
   ]
  },
  {
   "cell_type": "markdown",
   "metadata": {},
   "source": [
    "**print the categories**"
   ]
  },
  {
   "cell_type": "code",
   "execution_count": 123,
   "metadata": {},
   "outputs": [
    {
     "name": "stdout",
     "output_type": "stream",
     "text": [
      "dict_keys(['links', 'element_count', 'near_earth_objects'])\n"
     ]
    }
   ],
   "source": [
    "# Get the highest keys of the dictionary\n",
    "keys = json_data.keys()\n",
    "print(keys)"
   ]
  },
  {
   "cell_type": "markdown",
   "metadata": {},
   "source": [
    "Now I can narrow my search towards each key and get information from there"
   ]
  },
  {
   "cell_type": "code",
   "execution_count": 124,
   "metadata": {},
   "outputs": [
    {
     "name": "stdout",
     "output_type": "stream",
     "text": [
      "keys, ':', json_data['near_earth_objects'][keys]\n",
      "keys, ':', json_data['near_earth_objects'][keys]\n",
      "keys, ':', json_data['near_earth_objects'][keys]\n",
      "keys, ':', json_data['near_earth_objects'][keys]\n",
      "keys, ':', json_data['near_earth_objects'][keys]\n",
      "keys, ':', json_data['near_earth_objects'][keys]\n",
      "keys, ':', json_data['near_earth_objects'][keys]\n",
      "keys, ':', json_data['near_earth_objects'][keys]\n"
     ]
    }
   ],
   "source": [
    "# I dont want to print all the data because its too big\n",
    "# wihtout the outer strings, this will create the lists of dictionary inside the near_earth_objects key\n",
    "for keys in json_data['near_earth_objects']:\n",
    "    print(\"keys, ':', json_data['near_earth_objects'][keys]\")"
   ]
  },
  {
   "cell_type": "markdown",
   "metadata": {},
   "source": [
    "**Now I can choose where to navigate and get whatever data I want from Nasa's website**"
   ]
  },
  {
   "cell_type": "markdown",
   "metadata": {},
   "source": [
    "**Web Scrapping**"
   ]
  },
  {
   "cell_type": "code",
   "execution_count": 45,
   "metadata": {},
   "outputs": [],
   "source": [
    "# URL to scrap\n",
    "url = 'https://calendar.whitman.edu/'\n",
    "\n",
    "# send a request to the link\n",
    "response = requests.get(url)\n",
    "\n",
    "# Using BeautifulSoap, parser teh html of the website\n",
    "soup = BeautifulSoup(response.text, 'html.parser')"
   ]
  },
  {
   "cell_type": "markdown",
   "metadata": {},
   "source": [
    "**find all the links in a website**"
   ]
  },
  {
   "cell_type": "code",
   "execution_count": null,
   "metadata": {},
   "outputs": [
    {
     "data": {
      "text/plain": [
       "[<a class=\"button\" href=\"#main\" id=\"jump-to-main\">Jump the navigation</a>,\n",
       " <a aria-label=\"Link back to Whitman College home page.\" class=\"home-link\" href=\"https://calendar.whitman.edu\">\n",
       " <img alt=\"Whitman College Logo\" src=\"https://www.whitman.edu/images/global/logos/wc-primary-white-rgb.svg\"/>\n",
       " </a>,\n",
       " <a href=\"https://www.whitman.edu/admission-and-aid/applying-to-whitman\">Apply</a>,\n",
       " <a href=\"https://www.whitman.edu/admission-and-aid/visit-whitman\">Visit Whitman</a>,\n",
       " <a href=\"https://give.whitman.edu/\">Make a Gift</a>,\n",
       " <a href=\"https://calendar.whitman.edu\">Events</a>,\n",
       " <a href=\"/search/places\" role=\"menuitem\">Places</a>,\n",
       " <a href=\"/calendar\" role=\"menuitem\">Events</a>,\n",
       " <a href=\"/search/groups\" role=\"menuitem\">Groups</a>,\n",
       " <a href=\"/signup?school_id=91\">\n",
       " <i class=\"fas fa-user fa-sm\"><span class=\"sr-only\">Sign Up</span></i>\n",
       " </a>]"
      ]
     },
     "execution_count": 65,
     "metadata": {},
     "output_type": "execute_result"
    }
   ],
   "source": [
    "# find all the tags that start with '<a'\n",
    "html_links = soup.find_all('a')\n",
    "html_links[:10]"
   ]
  },
  {
   "cell_type": "markdown",
   "metadata": {},
   "source": [
    "*To get just the links themselves*"
   ]
  },
  {
   "cell_type": "code",
   "execution_count": null,
   "metadata": {},
   "outputs": [
    {
     "name": "stdout",
     "output_type": "stream",
     "text": [
      "#main\n",
      "https://calendar.whitman.edu\n",
      "https://www.whitman.edu/admission-and-aid/applying-to-whitman\n",
      "https://www.whitman.edu/admission-and-aid/visit-whitman\n",
      "https://give.whitman.edu/\n",
      "https://calendar.whitman.edu\n",
      "/search/places\n",
      "/calendar\n",
      "/search/groups\n",
      "/signup?school_id=91\n"
     ]
    }
   ],
   "source": [
    "for link in html_links[:10]:\n",
    "    #.get() gets whats inside the <a ... >  \n",
    "    print(link.get('href'))"
   ]
  },
  {
   "cell_type": "markdown",
   "metadata": {},
   "source": [
    "**Finding all the events names in Whitman's calendar**"
   ]
  },
  {
   "cell_type": "code",
   "execution_count": 125,
   "metadata": {},
   "outputs": [],
   "source": [
    "# the whole div tag contains the events information with the date and name of events\n",
    "\n",
    "# choose the inside of the tag that is \"class =\" and whatever it equals to\n",
    "# this will get all teh div tags that have a class equal to em-card_text\n",
    "\n",
    "events = soup.find_all('div', {'class':'em-card_text'})"
   ]
  },
  {
   "cell_type": "code",
   "execution_count": null,
   "metadata": {},
   "outputs": [
    {
     "name": "stdout",
     "output_type": "stream",
     "text": [
      "2025 Baccalaureate Ceremony\n",
      "139th Commencement Ceremony\n",
      "Final Exams - 9-11am and 2-4pm\n",
      "Martial Arts 5/18/25\n",
      "Final Exams - 9-11am and 2-4pm\n",
      "Applications for Incompletes due to Dean of Students by 4pm.\n",
      "End of Semester\n",
      "Last day to pre-register for Fall 2025\n",
      "Grieving@Whitman\n",
      "Senior grades due 9am\n",
      "Staff Recognition Breakfast\n",
      "Chess Club\n",
      "2025 Baccalaureate Ceremony\n",
      "139th Commencement Ceremony\n"
     ]
    }
   ],
   "source": [
    "# to remove all the html things and get the text inside the <> ... <>\n",
    "\n",
    "for event in events:\n",
    "    # event is a single line of html inside the events list\n",
    "\n",
    "    # .get_text() gets whats text insde the <> ... <>\n",
    "    # while strip = True removes all the unecessary whitespace\n",
    "    text = event.get_text(strip=True)\n",
    "\n",
    "    # the titles happen to be a link in the body of the div tags of every event\n",
    "    # the .find() works on single tag only not a list of them like events\n",
    "    event_name = event.find('a').get_text()\n",
    "    print(event_name)"
   ]
  },
  {
   "cell_type": "markdown",
   "metadata": {},
   "source": [
    "# "
   ]
  }
 ],
 "metadata": {
  "kernelspec": {
   "display_name": "project_9_215",
   "language": "python",
   "name": "python3"
  },
  "language_info": {
   "codemirror_mode": {
    "name": "ipython",
    "version": 3
   },
   "file_extension": ".py",
   "mimetype": "text/x-python",
   "name": "python",
   "nbconvert_exporter": "python",
   "pygments_lexer": "ipython3",
   "version": "3.11.11"
  }
 },
 "nbformat": 4,
 "nbformat_minor": 2
}
